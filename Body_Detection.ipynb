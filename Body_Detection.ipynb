{
  "nbformat": 4,
  "nbformat_minor": 0,
  "metadata": {
    "colab": {
      "name": "Body Detection.ipynb",
      "provenance": []
    },
    "kernelspec": {
      "name": "python3",
      "display_name": "Python 3"
    },
    "language_info": {
      "name": "python"
    }
  },
  "cells": [
    {
      "cell_type": "code",
      "metadata": {
        "id": "oJSXamt6uLTp"
      },
      "source": [
        "# Getting Dependencies\n",
        "import mediapipe as mp\n",
        "import cv2\n",
        "mp_drawing = mp.solutions.drawing_utils\n",
        "mp_holistic = mp.solutions.holistic\n",
        "\n",
        "\n",
        "# Getting Feed from Camera\n",
        "cap = cv2.VideoCapture(0)\n",
        "\n",
        "with mp_holistic.Holistic(min_detection_confidence=0.5, min_tracking_confidence=0.5) as holistic:\n",
        "    \n",
        "    while cap.isOpened():\n",
        "        ret, frame = cap.read()\n",
        "        \n",
        "        # Recoloring the video\n",
        "        image = cv2.cvtColor(frame, cv2.COLOR_BGR2RGB)\n",
        "        \n",
        "        # Making Detections\n",
        "        results = holistic.process(image)\n",
        "                \n",
        "        # Recoloring image back to BGR for rendering\n",
        "        image = cv2.cvtColor(image, cv2.COLOR_RGB2BGR)\n",
        "        \n",
        "        # 1. Face landmarks\n",
        "        mp_drawing.draw_landmarks(image, results.face_landmarks, mp_holistic.FACE_CONNECTIONS, \n",
        "            mp_drawing.DrawingSpec(color=(80,110,10), thickness=1, circle_radius=1),\n",
        "            mp_drawing.DrawingSpec(color=(80,256,121), thickness=1, circle_radius=1 )\n",
        "            )\n",
        "        \n",
        "        # 2. Right hand landmarks\n",
        "        mp_drawing.draw_landmarks(image, results.right_hand_landmarks, mp_holistic.HAND_CONNECTIONS, \n",
        "            mp_drawing.DrawingSpec(color=(80,22,10), thickness=2, circle_radius=4),\n",
        "            mp_drawing.DrawingSpec(color=(80,44,121), thickness=2, circle_radius=2)\n",
        "            )\n",
        "\n",
        "        # 3. Left Hand landmarks\n",
        "        mp_drawing.draw_landmarks(image, results.left_hand_landmarks, mp_holistic.HAND_CONNECTIONS, \n",
        "            mp_drawing.DrawingSpec(color=(121,22,76), thickness=2, circle_radius=4),\n",
        "            mp_drawing.DrawingSpec(color=(121,44,250), thickness=2, circle_radius=2)\n",
        "            )\n",
        "\n",
        "        # 4. Pose Detections\n",
        "        mp_drawing.draw_landmarks(image, results.pose_landmarks, mp_holistic.POSE_CONNECTIONS, \n",
        "            mp_drawing.DrawingSpec(color=(245,117,66), thickness=2, circle_radius=4),\n",
        "            mp_drawing.DrawingSpec(color=(245,66,230), thickness=2, circle_radius=2)\n",
        "            )\n",
        "\n",
        "        cv2.imshow('Body Detection', image)\n",
        "\n",
        "        if cv2.waitKey(10) & 0xFF == ord('q'):\n",
        "            break\n",
        "\n",
        "cap.release()\n",
        "cv2.destroyAllWindows()"
      ],
      "execution_count": null,
      "outputs": []
    }
  ]
}